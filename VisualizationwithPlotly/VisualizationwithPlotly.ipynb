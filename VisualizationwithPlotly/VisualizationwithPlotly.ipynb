{
 "cells": [
  {
   "cell_type": "markdown",
   "id": "5b7e11f1",
   "metadata": {},
   "source": [
    "# Visualization in Plotly Python"
   ]
  },
  {
   "cell_type": "markdown",
   "id": "67b46bcb",
   "metadata": {},
   "source": [
    "**Author:** Iftikhar Ud Din <br>\n",
    "**Portfolio:** [DinIftikhar](https://diniftikhar.github.io/) <br>\n",
    "**LinkedIn Profile:** [DinIftikhar](https://www.linkedin.com/in/diniftikhar/) "
   ]
  },
  {
   "cell_type": "markdown",
   "id": "61f2cfbc",
   "metadata": {},
   "source": [
    "## Objective:"
   ]
  },
  {
   "cell_type": "markdown",
   "id": "1382937b",
   "metadata": {},
   "source": [
    "This notebook contains all the plotly plots + the pie charts that I learned during the Jose Portilla course on [Udemy](https://www.udemy.com/course/interactive-python-dashboards-with-plotly-and-dash/). The objective was to practice my visualisation skills in Plotly.\n"
   ]
  },
  {
   "cell_type": "code",
   "execution_count": null,
   "id": "571f0190",
   "metadata": {},
   "outputs": [],
   "source": [
    "#!pip install kaleido\n",
    "import numpy as np\n",
    "import pandas as pd\n",
    "import plotly.graph_objs as go\n",
    "import plotly.io as pio\n",
    "pio.renderers.default = 'notebook_connected'"
   ]
  },
  {
   "cell_type": "code",
   "execution_count": null,
   "id": "ea8ebea6",
   "metadata": {},
   "outputs": [],
   "source": [
    "np.random.seed(42)"
   ]
  },
  {
   "cell_type": "markdown",
   "id": "9def1d5e",
   "metadata": {},
   "source": [
    "## 1. Scatter Plot"
   ]
  },
  {
   "cell_type": "code",
   "execution_count": null,
   "id": "53c8f3ec",
   "metadata": {},
   "outputs": [],
   "source": [
    "random_x = np.random.randint(1,101,100)\n",
    "random_y = np.random.randint(1,101,100)\n",
    "data = [go.Scatter(\n",
    "    x = random_x,  \n",
    "    y = random_y, \n",
    "    mode = 'markers',\n",
    "    marker = dict(size = 12,color = 'rgb(212,53,108)',symbol = 'circle', line = {'width':0.5})\n",
    ")]\n",
    "\n",
    "       \n",
    "layout = go.Layout(\n",
    "    title = dict(text = 'Scatter Plot',x = 0.5), #x= 0.5 here aligns title to the center of graph\n",
    "    xaxis = dict(title = 'xlabel'),\n",
    "    yaxis = dict(title = 'ylabel'),\n",
    "    hovermode = 'closest',\n",
    ")\n",
    "\n",
    "fig1 = go.Figure(data = data,layout = layout)\n",
    "fig1.show()"
   ]
  },
  {
   "cell_type": "markdown",
   "id": "1cf2ba35",
   "metadata": {},
   "source": [
    "## 2. Line Plot"
   ]
  },
  {
   "cell_type": "code",
   "execution_count": null,
   "id": "7cca8177",
   "metadata": {},
   "outputs": [],
   "source": [
    "np.random.seed(56)\n",
    "\n",
    "x_values = np.linspace(0,1,100)\n",
    "y_values = np.random.randn(100)\n",
    "\n",
    "trace0 = go.Scatter(x = x_values, y = y_values+ 5, mode = 'markers', name = 'markers')\n",
    "trace1 = go.Scatter(x = x_values, y = y_values, mode = 'lines', name = 'mylines')\n",
    "trace2 = go.Scatter(x = x_values, y = y_values - 5, mode = 'lines+markers', name = 'myfav')\n",
    "data = [trace0, trace1, trace2]\n",
    "\n",
    "layout = go.Layout(title = dict(text = 'Line Charts', x = 0.5))\n",
    "\n",
    "fig2 = go.Figure(data = data, layout = layout)\n",
    "fig2.show()"
   ]
  },
  {
   "cell_type": "markdown",
   "id": "4f5e506b",
   "metadata": {},
   "source": [
    "#### 2.1 Plotting Line Charts using Pandas"
   ]
  },
  {
   "cell_type": "code",
   "execution_count": null,
   "id": "39399415",
   "metadata": {},
   "outputs": [],
   "source": [
    "df_nst = pd.read_csv('SourceData/nst-est2017-alldata.csv')\n",
    "df_nst.head()"
   ]
  },
  {
   "cell_type": "code",
   "execution_count": null,
   "id": "674816fb",
   "metadata": {},
   "outputs": [],
   "source": [
    "df2 = df_nst[df_nst['DIVISION'] == '1']\n",
    "df2.set_index('NAME', inplace = True)"
   ]
  },
  {
   "cell_type": "code",
   "execution_count": null,
   "id": "f3055585",
   "metadata": {},
   "outputs": [],
   "source": [
    "list_of_pop_col = [col for col in df2.columns if col.startswith('POP')]\n",
    "df2 = df2[list_of_pop_col]\n",
    "df2"
   ]
  },
  {
   "cell_type": "code",
   "execution_count": null,
   "id": "32faa69d",
   "metadata": {},
   "outputs": [],
   "source": [
    "data = [\n",
    "    go.Scatter(\n",
    "        x = df2.columns,\n",
    "        y = df2.loc[name],\n",
    "        mode = 'lines',\n",
    "        name = name,\n",
    "    ) \n",
    "for name in df2.index]\n",
    "\n",
    "layout = go.Layout(title = dict(text = 'Population Estimates of Different States',x=0.5),\n",
    "                  yaxis = dict(title = 'Estimated Values'),)\n",
    "\n",
    "fig3 = go.Figure(data = data, layout = layout)\n",
    "fig3.show()"
   ]
  },
  {
   "cell_type": "markdown",
   "id": "defa2a77",
   "metadata": {},
   "source": [
    "#### 2.2 Exercise"
   ]
  },
  {
   "cell_type": "code",
   "execution_count": null,
   "id": "eb5450ef",
   "metadata": {},
   "outputs": [],
   "source": [
    "df_yuma = pd.read_csv('Data/2010YumaAZ.csv')\n",
    "df_yuma.head()"
   ]
  },
  {
   "cell_type": "code",
   "execution_count": null,
   "id": "99aa5231",
   "metadata": {},
   "outputs": [],
   "source": [
    "days = ['TUESDAY', 'WEDNESDAY','THURSDAY','FRIDAY','SATURDAY','SUNDAY','MONDAY']\n",
    "data = []\n",
    "for day in days:\n",
    "    trace = go.Scatter(\n",
    "                      x = df_yuma['LST_TIME'],\n",
    "                      y = df_yuma[df_yuma['DAY']==day]['T_HR_AVG'],\n",
    "                      mode = 'lines',\n",
    "                      name = day\n",
    "    )\n",
    "    data.append(trace)\n",
    "\n",
    "layout = go.Layout(title = dict(text = 'Daily Average Temperature from June 1-7, 2010 in Arizona', x = 0.5),\n",
    "                   xaxis = dict(title = 'Time (24hr format)'),\n",
    "                   yaxis = dict(title = 'Average Temperature'),\n",
    "                   \n",
    ")\n",
    "\n",
    "fig4 = go.Figure(data = data, layout = layout)\n",
    "fig4.show()"
   ]
  },
  {
   "cell_type": "markdown",
   "id": "90203c8a",
   "metadata": {},
   "source": [
    "## 3. Bar Chart"
   ]
  },
  {
   "cell_type": "code",
   "execution_count": null,
   "id": "d7283f59",
   "metadata": {},
   "outputs": [],
   "source": [
    "df_winter = pd.read_csv('Data/2018WinterOlympics.csv')\n",
    "df_winter.head()"
   ]
  },
  {
   "cell_type": "code",
   "execution_count": null,
   "id": "8c507878",
   "metadata": {},
   "outputs": [],
   "source": [
    "data = [go.Bar(x = df_winter['NOC'],y = df_winter['Total'])]\n",
    "layout = go.Layout(title = 'Bar Chart')\n",
    "fig5 = go.Figure(data=data, layout = layout)\n",
    "fig5.show()"
   ]
  },
  {
   "cell_type": "markdown",
   "id": "e78a7f0d",
   "metadata": {},
   "source": [
    "#### 3.1 Nested Bar Chart"
   ]
  },
  {
   "cell_type": "code",
   "execution_count": null,
   "id": "7f880c0a",
   "metadata": {},
   "outputs": [],
   "source": [
    "trace1 = go.Bar(x = df_winter['NOC'], y = df_winter['Gold'], name = 'Gold', marker = {'color':'#FFD700'})\n",
    "trace2 = go.Bar(x = df_winter['NOC'], y = df_winter['Silver'], name = 'Silver', marker = {'color':'#9EA0A1'})\n",
    "trace3 = go.Bar(x = df_winter['NOC'], y = df_winter['Bronze'], name = 'Bronze', marker = {'color':'#CD7F32'})\n",
    "\n",
    "data = [trace1,trace2,trace3]\n",
    "\n",
    "layout = go.Layout(title = 'Medals Count for Winter Olympics 2018')\n",
    "\n",
    "fig6 = go.Figure(data = data, layout = layout)\n",
    "fig6.show()"
   ]
  },
  {
   "cell_type": "markdown",
   "id": "e5242551",
   "metadata": {},
   "source": [
    "#### 3.2 Stacked Bar Chart"
   ]
  },
  {
   "cell_type": "code",
   "execution_count": null,
   "id": "e41ab6f0",
   "metadata": {},
   "outputs": [],
   "source": [
    "trace1 = go.Bar(x = df_winter['NOC'], y = df_winter['Gold'], name = 'Gold', marker = {'color':'#FFD700'}, text = df_winter['Gold'])\n",
    "trace2 = go.Bar(x = df_winter['NOC'], y = df_winter['Silver'], name = 'Silver', marker = {'color':'#9EA0A1'},text = df_winter['Silver'])\n",
    "trace3 = go.Bar(x = df_winter['NOC'], y = df_winter['Bronze'], name = 'Bronze', marker = {'color':'#CD7F32'},text = df_winter['Bronze'])\n",
    "\n",
    "data = [trace1,trace2,trace3]\n",
    "\n",
    "layout = go.Layout(title = 'Medals Count for Winter Olympics 2018', barmode = 'stack')\n",
    "\n",
    "fig7 = go.Figure(data = data, layout = layout)\n",
    "fig7.show()"
   ]
  },
  {
   "cell_type": "markdown",
   "id": "4f97ae39",
   "metadata": {},
   "source": [
    "#### 3.3 Exercise"
   ]
  },
  {
   "cell_type": "code",
   "execution_count": null,
   "id": "63ef859b",
   "metadata": {},
   "outputs": [],
   "source": [
    "df_mock = pd.read_csv('Data/mocksurvey.csv', index_col = 0 )\n",
    "df_mock.head()"
   ]
  },
  {
   "cell_type": "code",
   "execution_count": null,
   "id": "b5911d4f",
   "metadata": {},
   "outputs": [],
   "source": [
    "data =[\n",
    "    go.Bar(\n",
    "    y = df_mock.index,\n",
    "    x = df_mock[response],\n",
    "    orientation = 'h',\n",
    "    name = response,\n",
    "    )\n",
    "    for response in df_mock.columns\n",
    "]\n",
    "\n",
    "layout = go.Layout(title = dict(text = 'Mock Survey Questions', x = 0.5),\n",
    "                  barmode = 'relative')\n",
    "\n",
    "fig8 = go.Figure(data = data, layout = layout)\n",
    "fig8.show()"
   ]
  },
  {
   "cell_type": "markdown",
   "id": "d5deacdc",
   "metadata": {},
   "source": [
    "## 4. Pie and Donut Charts"
   ]
  },
  {
   "cell_type": "code",
   "execution_count": null,
   "id": "488c91cb",
   "metadata": {},
   "outputs": [],
   "source": [
    "labels = df_mock.columns.tolist()\n",
    "values = df_mock.loc['Question 1'].values.tolist()\n",
    "\n",
    "data = [\n",
    "    go.Pie(labels = labels, values = values)\n",
    "]\n",
    "layout = go.Layout(title = 'Survey Question 1 Answers',\n",
    "                  title_font=dict(size=25,family='Verdana', \n",
    "                                   color='darkred'), \n",
    "                                   font_size=20)\n",
    "\n",
    "fig9 = go.Figure(data = data, layout = layout)\n",
    "fig9.show()"
   ]
  },
  {
   "cell_type": "code",
   "execution_count": null,
   "id": "70fe394a",
   "metadata": {},
   "outputs": [],
   "source": [
    "labels = df_mock.columns.tolist()\n",
    "values = df_mock.loc['Question 2'].values.tolist()\n",
    "\n",
    "data = [\n",
    "    go.Pie(labels = labels, values = values, hole = 0.4)\n",
    "]\n",
    "layout = go.Layout(title = 'Survey Question 2 Answers',\n",
    "                  title_font=dict(size=25,family='Verdana', \n",
    "                                   color='darkred'), \n",
    "                                   font_size=20)\n",
    "\n",
    "fig10 = go.Figure(data = data, layout = layout)\n",
    "fig10.show()"
   ]
  },
  {
   "cell_type": "markdown",
   "id": "6beb53a2",
   "metadata": {},
   "source": [
    "## 4. Bubble Plots"
   ]
  },
  {
   "cell_type": "code",
   "execution_count": null,
   "id": "4cc362bb",
   "metadata": {},
   "outputs": [],
   "source": [
    "df_mpg = pd.read_csv('Data/mpg.csv', na_values={'horsepower':'?'})\n",
    "df_mpg.head()"
   ]
  },
  {
   "cell_type": "code",
   "execution_count": null,
   "id": "2c8737ca",
   "metadata": {},
   "outputs": [],
   "source": [
    "data = [\n",
    "    go.Scatter(\n",
    "            x = df_mpg['horsepower'], \n",
    "            y = df_mpg['mpg'],\n",
    "            text = df_mpg['name'],\n",
    "            mode = 'markers',\n",
    "            marker = dict(size = df_mpg['weight']/100, color = df_mpg['cylinders'], showscale = True)\n",
    "    )\n",
    "]\n",
    "\n",
    "layout = go.Layout(title = 'Bubble Chart of mpg vs horsepower', hovermode = 'closest')\n",
    "\n",
    "fig11 = go.Figure(data = data, layout = layout)\n",
    "fig11.show()"
   ]
  },
  {
   "cell_type": "markdown",
   "id": "a0b48a8f",
   "metadata": {},
   "source": [
    "#### 4.1 Excercise "
   ]
  },
  {
   "cell_type": "code",
   "execution_count": null,
   "id": "ad37c695",
   "metadata": {},
   "outputs": [],
   "source": [
    "data = [\n",
    "    go.Scatter(\n",
    "            x = df_mpg['displacement'], \n",
    "            y = df_mpg['acceleration'],\n",
    "            text = df_mpg['name'],\n",
    "            mode = 'markers',\n",
    "            marker = dict(size = df_mpg['weight']/100, color = df_mpg['cylinders'], showscale = True)\n",
    "    )\n",
    "]\n",
    "\n",
    "layout = go.Layout(title = 'Bubble Chart of displacement vs acceleration', hovermode = 'closest')\n",
    "\n",
    "fig12 = go.Figure(data = data, layout = layout)\n",
    "fig12.show()"
   ]
  },
  {
   "cell_type": "markdown",
   "id": "4c248422",
   "metadata": {},
   "source": [
    "## 5. Boxplots"
   ]
  },
  {
   "cell_type": "code",
   "execution_count": null,
   "id": "266ee733",
   "metadata": {},
   "outputs": [],
   "source": [
    "# set up an array of 20 data points, with 20 as the median value\n",
    "y = [1,14,14,15,16,18,18,19,19,20,20,23,24,26,27,27,28,29,33,54]\n",
    "\n",
    "data = [\n",
    "    go.Box(\n",
    "        y=y,\n",
    "        boxpoints='outliers', # display the original data points\n",
    "        #jitter=0.3,      # spread them out so they all appear\n",
    "        #pointpos=-1.8    # offset them to the left of the box\n",
    "    )\n",
    "]\n",
    "layout = go.Layout(title = 'Boxplot')\n",
    "\n",
    "fig13 = go.Figure(data = data, layout = layout)\n",
    "fig13.show()"
   ]
  },
  {
   "cell_type": "markdown",
   "id": "78900a6e",
   "metadata": {},
   "source": [
    "#### 5.1 Mark Twain's analysis"
   ]
  },
  {
   "cell_type": "code",
   "execution_count": null,
   "id": "d3ac161a",
   "metadata": {},
   "outputs": [],
   "source": [
    "snodgrass = [.209,.205,.196,.210,.202,.207,.224,.223,.220,.201]\n",
    "twain = [.225,.262,.217,.240,.230,.229,.235,.217]\n",
    "\n",
    "data = [\n",
    "    go.Box(\n",
    "        y=snodgrass,\n",
    "        name='Snodgrass'\n",
    "    ),\n",
    "    go.Box(\n",
    "        y=twain,\n",
    "        name='Twain'\n",
    "    )\n",
    "]\n",
    "layout = go.Layout(\n",
    "    title = 'Comparison of three-letter-word frequencies<br>\\\n",
    "    between Quintus Curtius Snodgrass and Mark Twain'\n",
    ")\n",
    "fig14 = go.Figure(data=data, layout=layout)\n",
    "fig14.show()"
   ]
  },
  {
   "cell_type": "markdown",
   "id": "a68c3ca8",
   "metadata": {},
   "source": [
    "#### 5.2 Excercise"
   ]
  },
  {
   "cell_type": "code",
   "execution_count": null,
   "id": "2ca38f79",
   "metadata": {},
   "outputs": [],
   "source": [
    "df_abalone = pd.read_csv('Data/abalone.csv')\n",
    "df_abalone.head()"
   ]
  },
  {
   "cell_type": "code",
   "execution_count": null,
   "id": "d77d878a",
   "metadata": {},
   "outputs": [],
   "source": [
    "x = np.random.choice(df_abalone['rings'],35,replace = False)\n",
    "y = np.random.choice(df_abalone['rings'], 30, replace = False)"
   ]
  },
  {
   "cell_type": "code",
   "execution_count": null,
   "id": "37d4c735",
   "metadata": {},
   "outputs": [],
   "source": [
    "box_x = go.Box(y=x, boxpoints = 'outliers', name = 'Sample x')\n",
    "box_y = go.Box(y=y, boxpoints = 'outliers', name = 'Sample y')\n",
    "data = [box_x, box_y]\n",
    "\n",
    "layout = go.Layout(title = 'Comparison of two samples')\n",
    "\n",
    "fig15 = go.Figure(data = data, layout = layout)\n",
    "fig15.show()"
   ]
  },
  {
   "cell_type": "markdown",
   "id": "b2dca995",
   "metadata": {},
   "source": [
    "## 6. Histograms"
   ]
  },
  {
   "cell_type": "code",
   "execution_count": null,
   "id": "8d3beac4",
   "metadata": {},
   "outputs": [],
   "source": [
    "data = go.Histogram(x = df_mpg['mpg'], xbins = dict(start=0, end=50,size= 2))\n",
    "layout = go.Layout(title = 'Histogram')\n",
    "fig16 = go.Figure(data= data, layout  = layout)\n",
    "fig16.show()"
   ]
  },
  {
   "cell_type": "markdown",
   "id": "1a59973b",
   "metadata": {},
   "source": [
    "#### 6.1 Exercise"
   ]
  },
  {
   "cell_type": "code",
   "execution_count": null,
   "id": "2b4dc2ea",
   "metadata": {},
   "outputs": [],
   "source": [
    "data = [go.Histogram(x = df_abalone['length'], xbins = dict(size = 0.2))]\n",
    "layout = go.Layout(title = 'Histogram')\n",
    "fig17 = go.Figure(data = data, layout = layout)\n",
    "fig17.show()"
   ]
  },
  {
   "cell_type": "markdown",
   "id": "9276583a",
   "metadata": {},
   "source": [
    "## 7. Dist or Distribution Plots"
   ]
  },
  {
   "cell_type": "code",
   "execution_count": null,
   "id": "abbdfd8d",
   "metadata": {},
   "outputs": [],
   "source": [
    "#!pip install scipy\n",
    "import scipy\n",
    "import plotly.figure_factory as ff"
   ]
  },
  {
   "cell_type": "code",
   "execution_count": null,
   "id": "1fdcde1c",
   "metadata": {},
   "outputs": [],
   "source": [
    "x = np.random.randn(1000)"
   ]
  },
  {
   "cell_type": "code",
   "execution_count": null,
   "id": "b2fe4c4e",
   "metadata": {},
   "outputs": [],
   "source": [
    "hist_data = [x]\n",
    "group_labels = ['Distplot']\n",
    "fig18 = ff.create_distplot(hist_data, group_labels)\n",
    "fig18.show()"
   ]
  },
  {
   "cell_type": "code",
   "execution_count": null,
   "id": "8a44fe50",
   "metadata": {},
   "outputs": [],
   "source": [
    "x1 = np.random.randn(200)-2\n",
    "x2 = np.random.randn(200)\n",
    "x3 = np.random.randn(200)+2\n",
    "x4 = np.random.randn(200)+4"
   ]
  },
  {
   "cell_type": "code",
   "execution_count": null,
   "id": "ea48b7f1",
   "metadata": {},
   "outputs": [],
   "source": [
    "hist_data = [x1,x2,x3,x4]\n",
    "group_labels = ['X1','X2','X3','X4']\n",
    "\n",
    "fig19 = ff.create_distplot(hist_data, group_labels, bin_size = [0.2,0.3,0.4,0.5])\n",
    "fig19.show()"
   ]
  },
  {
   "cell_type": "code",
   "execution_count": null,
   "id": "11862182",
   "metadata": {},
   "outputs": [],
   "source": [
    "hist_data = [snodgrass, twain]\n",
    "group_labels = ['Snodgrass','Twain']\n",
    "\n",
    "fig20 = ff.create_distplot(hist_data, group_labels, bin_size = [0.005,0.005])\n",
    "fig20.show()"
   ]
  },
  {
   "cell_type": "markdown",
   "id": "421f41b6",
   "metadata": {},
   "source": [
    "#### 7.1 Exercise "
   ]
  },
  {
   "cell_type": "code",
   "execution_count": null,
   "id": "d7326ee3",
   "metadata": {},
   "outputs": [],
   "source": [
    "df_iris = pd.read_csv('Data/iris.csv')\n",
    "df_iris.head()"
   ]
  },
  {
   "cell_type": "code",
   "execution_count": null,
   "id": "4de8363f",
   "metadata": {},
   "outputs": [],
   "source": [
    "setosa = df_iris[df_iris['class'] == 'Iris-setosa']['petal_length']\n",
    "versicolor = df_iris[df_iris['class'] == 'Iris-versicolor']['petal_length']\n",
    "virginica = df_iris[df_iris['class'] == 'Iris-virginica']['petal_length']\n",
    "\n",
    "hist_data = [setosa,versicolor,virginica]\n",
    "group_labels = ['Iris-setosa','Iris-versicolor','Iris-virginica']\n",
    "fig21 = ff.create_distplot(hist_data, group_labels, bin_size = [0.2,0.2,0.2])\n",
    "fig21.show()"
   ]
  },
  {
   "cell_type": "markdown",
   "id": "c5e5d51c",
   "metadata": {},
   "source": [
    "## 8. Heatmaps"
   ]
  },
  {
   "cell_type": "code",
   "execution_count": null,
   "id": "6484f042",
   "metadata": {},
   "outputs": [],
   "source": [
    "df_ca = pd.read_csv('Data/2010SantaBarbaraCA.csv')\n",
    "df_ca.head()"
   ]
  },
  {
   "cell_type": "code",
   "execution_count": null,
   "id": "5d167775",
   "metadata": {},
   "outputs": [],
   "source": [
    "data = [\n",
    "    go.Heatmap(\n",
    "        x = df_ca['DAY'],\n",
    "        y = df_ca['LST_TIME'],\n",
    "        z = df_ca['T_HR_AVG'].values.tolist(), #colorscale only accepts list values\n",
    "        colorscale = 'JET'\n",
    "    )\n",
    "]\n",
    "\n",
    "layout = go.Layout(title = 'Santa Barbara Daily Hourly Average Temperature Heatmap from June 1-7, 2010')\n",
    "\n",
    "fig22 = go.Figure(data = data, layout = layout)\n",
    "fig22.show()"
   ]
  },
  {
   "cell_type": "markdown",
   "id": "9f3b01fc",
   "metadata": {},
   "source": [
    "## 9. Multiple Subplots in Plotly"
   ]
  },
  {
   "cell_type": "code",
   "execution_count": null,
   "id": "58d14de7",
   "metadata": {},
   "outputs": [],
   "source": [
    "#using df_ca, df_yuma, and will import another dataset 2010SitkaAK.csv\n",
    "df_sitka = pd.read_csv('Data/2010SantaBarbaraCA.csv')\n",
    "df_sitka"
   ]
  },
  {
   "cell_type": "code",
   "execution_count": null,
   "id": "0b294e72",
   "metadata": {},
   "outputs": [],
   "source": [
    "sitka = go.Heatmap(\n",
    "        x = df_sitka['DAY'],\n",
    "        y = df_sitka['LST_TIME'],\n",
    "        z = df_sitka['T_HR_AVG'],\n",
    "        colorscale = 'JET',\n",
    "        zmin = 5,\n",
    "        zmax = 40\n",
    "    )\n",
    "\n",
    "\n",
    "ca = go.Heatmap(\n",
    "        x = df_ca['DAY'],\n",
    "        y = df_ca['LST_TIME'],\n",
    "        z = df_ca['T_HR_AVG'],\n",
    "        colorscale = 'JET',\n",
    "        zmin = 5,\n",
    "        zmax = 40\n",
    "    )\n",
    "\n",
    "yuma = go.Heatmap(\n",
    "        x = df_yuma['DAY'],\n",
    "        y = df_yuma['LST_TIME'],\n",
    "        z = df_yuma['T_HR_AVG'],\n",
    "        colorscale = 'JET',\n",
    "        zmin = 5,\n",
    "        zmax = 40\n",
    "    )\n"
   ]
  },
  {
   "cell_type": "code",
   "execution_count": null,
   "id": "3f36ec55",
   "metadata": {},
   "outputs": [],
   "source": [
    "from plotly import subplots"
   ]
  },
  {
   "cell_type": "code",
   "execution_count": null,
   "id": "7ca92c20",
   "metadata": {},
   "outputs": [],
   "source": [
    "fig23 = subplots.make_subplots(rows = 1, cols = 3, subplot_titles = ['Sitka AK', 'Santa Barbara CA','Yuma AZ'], \n",
    "                          y_title = 'Hourly Avg Temp', shared_yaxes = True)\n",
    "fig23.append_trace(sitka,1,1)\n",
    "fig23.append_trace(ca,1,2)\n",
    "fig23.append_trace(yuma,1,3)\n",
    "\n",
    "fig23.update_layout(title = dict(text = 'Tempratues for 3 states', x = 0.5)\n",
    "                 )\n",
    "\n",
    "fig23.show()\n"
   ]
  },
  {
   "cell_type": "code",
   "execution_count": null,
   "id": "7823750d",
   "metadata": {},
   "outputs": [],
   "source": []
  }
 ],
 "metadata": {
  "kernelspec": {
   "display_name": "Python 3 (ipykernel)",
   "language": "python",
   "name": "python3"
  },
  "language_info": {
   "codemirror_mode": {
    "name": "ipython",
    "version": 3
   },
   "file_extension": ".py",
   "mimetype": "text/x-python",
   "name": "python",
   "nbconvert_exporter": "python",
   "pygments_lexer": "ipython3",
   "version": "3.9.12"
  }
 },
 "nbformat": 4,
 "nbformat_minor": 5
}
